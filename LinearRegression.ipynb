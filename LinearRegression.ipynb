{
  "nbformat": 4,
  "nbformat_minor": 0,
  "metadata": {
    "colab": {
      "name": "LinearRegression.ipynb",
      "provenance": [],
      "collapsed_sections": [],
      "authorship_tag": "ABX9TyMFLsnOTjkSUTNMZ3bFkEHL",
      "include_colab_link": true
    },
    "kernelspec": {
      "name": "python3",
      "display_name": "Python 3"
    },
    "language_info": {
      "name": "python"
    }
  },
  "cells": [
    {
      "cell_type": "markdown",
      "metadata": {
        "id": "view-in-github",
        "colab_type": "text"
      },
      "source": [
        "<a href=\"https://colab.research.google.com/github/aakashjain13/100daysofcode/blob/linear_regression/LinearRegression.ipynb\" target=\"_parent\"><img src=\"https://colab.research.google.com/assets/colab-badge.svg\" alt=\"Open In Colab\"/></a>"
      ]
    },
    {
      "cell_type": "markdown",
      "metadata": {
        "id": "ddWzTBFCqFRJ"
      },
      "source": [
        "**Import Library**"
      ]
    },
    {
      "cell_type": "code",
      "metadata": {
        "id": "QtG0JRfLpXlO"
      },
      "source": [
        "import pandas as pd\n",
        "import numpy as np\n",
        "import seaborn as sns\n",
        "from sklearn import datasets"
      ],
      "execution_count": 4,
      "outputs": []
    },
    {
      "cell_type": "code",
      "metadata": {
        "id": "qB0feveIqA4A"
      },
      "source": [
        "diabetes = datasets.load_diabetes()"
      ],
      "execution_count": 5,
      "outputs": []
    },
    {
      "cell_type": "markdown",
      "metadata": {
        "id": "dztTeFwPsBTs"
      },
      "source": [
        "**Create X and Y Data matrices**"
      ]
    },
    {
      "cell_type": "code",
      "metadata": {
        "id": "UTOwaF_RrPvD"
      },
      "source": [
        "X = diabetes.data\n",
        "Y = diabetes.target"
      ],
      "execution_count": 13,
      "outputs": []
    },
    {
      "cell_type": "code",
      "metadata": {
        "colab": {
          "base_uri": "https://localhost:8080/"
        },
        "id": "bJnT9zdQrRPo",
        "outputId": "a3aea2d4-65bf-42da-9fd2-88d21d18c6bd"
      },
      "source": [
        "X.shape,Y.shape"
      ],
      "execution_count": 14,
      "outputs": [
        {
          "output_type": "execute_result",
          "data": {
            "text/plain": [
              "((442, 10), (442,))"
            ]
          },
          "metadata": {
            "tags": []
          },
          "execution_count": 14
        }
      ]
    },
    {
      "cell_type": "markdown",
      "metadata": {
        "id": "79Oac0aFsltt"
      },
      "source": [
        "**Data Split**"
      ]
    },
    {
      "cell_type": "code",
      "metadata": {
        "id": "sDDat2O2sZ6-"
      },
      "source": [
        "from sklearn.model_selection import train_test_split"
      ],
      "execution_count": 15,
      "outputs": []
    },
    {
      "cell_type": "markdown",
      "metadata": {
        "id": "dnUvu2lqszoE"
      },
      "source": [
        "**Perform 80/20 Train test data split**"
      ]
    },
    {
      "cell_type": "code",
      "metadata": {
        "id": "bG5y79NFsyb2"
      },
      "source": [
        "X_train,X_test,Y_train,Y_test = train_test_split(X,Y,test_size=0.2)"
      ],
      "execution_count": 39,
      "outputs": []
    },
    {
      "cell_type": "markdown",
      "metadata": {
        "id": "_YLGUOhotWPA"
      },
      "source": [
        "**Linear Regression Model**"
      ]
    },
    {
      "cell_type": "code",
      "metadata": {
        "id": "4ziuV_nEtbZq"
      },
      "source": [
        "from sklearn import linear_model\n",
        "from sklearn.metrics import r2_score,mean_squared_error"
      ],
      "execution_count": 17,
      "outputs": []
    },
    {
      "cell_type": "markdown",
      "metadata": {
        "id": "I9GeBGbpuCmH"
      },
      "source": [
        "Define Regression Model"
      ]
    },
    {
      "cell_type": "code",
      "metadata": {
        "id": "ZJu30uY5tpSj"
      },
      "source": [
        "model = linear_model.LinearRegression()"
      ],
      "execution_count": 40,
      "outputs": []
    },
    {
      "cell_type": "markdown",
      "metadata": {
        "id": "CVkfWpVYuJiS"
      },
      "source": [
        "Build Regression Model"
      ]
    },
    {
      "cell_type": "code",
      "metadata": {
        "colab": {
          "base_uri": "https://localhost:8080/"
        },
        "id": "AG_KCWaAtt_t",
        "outputId": "222d90ea-4b24-4925-e3ed-5edf6dd24965"
      },
      "source": [
        "model.fit(X_train,Y_train)"
      ],
      "execution_count": 41,
      "outputs": [
        {
          "output_type": "execute_result",
          "data": {
            "text/plain": [
              "LinearRegression(copy_X=True, fit_intercept=True, n_jobs=None, normalize=False)"
            ]
          },
          "metadata": {
            "tags": []
          },
          "execution_count": 41
        }
      ]
    },
    {
      "cell_type": "markdown",
      "metadata": {
        "id": "3VsBwNfwuYaA"
      },
      "source": [
        "Apply trained model to make prediction (on test set)"
      ]
    },
    {
      "cell_type": "code",
      "metadata": {
        "id": "qGogWu73uPrU"
      },
      "source": [
        "y_pred = model.predict(X_test)"
      ],
      "execution_count": 42,
      "outputs": []
    },
    {
      "cell_type": "code",
      "metadata": {
        "colab": {
          "base_uri": "https://localhost:8080/"
        },
        "id": "zueCs132uklO",
        "outputId": "71850242-6b6d-4e6d-fdf6-db5cf63dc950"
      },
      "source": [
        "print('coefficients {}'.format(model.coef_))\n",
        "print('Intercept', model.intercept_)\n",
        "print('Mean Squared Error (MSE): {:.2f}'.format(mean_squared_error(Y_test,y_pred)))\n",
        "print('Coefficient of Determination (R^2) :{:.2f}'.format(r2_score(Y_test,y_pred)))"
      ],
      "execution_count": 49,
      "outputs": [
        {
          "output_type": "stream",
          "text": [
            "coefficients [   4.65757921 -236.02911451  533.56216603  319.50003797 -795.76023257\n",
            "  464.25447779   97.21146681  135.96831058  779.93635241   77.55299833]\n",
            "Intercept 152.81437259498887\n",
            "Mean Squared Error (MSE): 2837.20\n",
            "Coefficient of Determination (R^2) :0.48\n"
          ],
          "name": "stdout"
        }
      ]
    },
    {
      "cell_type": "code",
      "metadata": {
        "id": "dnDY2i28uuBO"
      },
      "source": [
        ""
      ],
      "execution_count": null,
      "outputs": []
    }
  ]
}