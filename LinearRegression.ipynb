{
  "nbformat": 4,
  "nbformat_minor": 0,
  "metadata": {
    "colab": {
      "name": "LinearRegression.ipynb",
      "provenance": [],
      "collapsed_sections": [],
      "authorship_tag": "ABX9TyNkm+Lxl5FVLlwjI6H+n6/N",
      "include_colab_link": true
    },
    "kernelspec": {
      "name": "python3",
      "display_name": "Python 3"
    },
    "language_info": {
      "name": "python"
    }
  },
  "cells": [
    {
      "cell_type": "markdown",
      "metadata": {
        "id": "view-in-github",
        "colab_type": "text"
      },
      "source": [
        "<a href=\"https://colab.research.google.com/github/aakashjain13/100daysofcode/blob/main/LinearRegression.ipynb\" target=\"_parent\"><img src=\"https://colab.research.google.com/assets/colab-badge.svg\" alt=\"Open In Colab\"/></a>"
      ]
    },
    {
      "cell_type": "markdown",
      "metadata": {
        "id": "ddWzTBFCqFRJ"
      },
      "source": [
        "**Import Library**"
      ]
    },
    {
      "cell_type": "code",
      "metadata": {
        "id": "QtG0JRfLpXlO"
      },
      "source": [
        "import pandas as pd\n",
        "import numpy as np\n",
        "import seaborn as sns\n",
        "from sklearn import datasets"
      ],
      "execution_count": 3,
      "outputs": []
    },
    {
      "cell_type": "code",
      "metadata": {
        "id": "4ziuV_nEtbZq"
      },
      "source": [
        "from sklearn import linear_model\n",
        "from sklearn.metrics import r2_score,mean_squared_error"
      ],
      "execution_count": 4,
      "outputs": []
    },
    {
      "cell_type": "code",
      "metadata": {
        "id": "sDDat2O2sZ6-"
      },
      "source": [
        "from sklearn.model_selection import train_test_split"
      ],
      "execution_count": 5,
      "outputs": []
    },
    {
      "cell_type": "code",
      "metadata": {
        "id": "rF-8YmtemxPV"
      },
      "source": [
        "import matplotlib.pyplot as plt\n",
        "plt.rcParams['figure.figsize']=(20,10)"
      ],
      "execution_count": 6,
      "outputs": []
    },
    {
      "cell_type": "markdown",
      "metadata": {
        "id": "7IswaeJrUxEw"
      },
      "source": [
        "**Method 1: Using Mathematical equation**"
      ]
    },
    {
      "cell_type": "code",
      "metadata": {
        "id": "xGIo6RkaU3PJ",
        "outputId": "d083a082-edaa-42d5-851b-a6ea0c4a0e47",
        "colab": {
          "base_uri": "https://localhost:8080/"
        }
      },
      "source": [
        "#load boston housing dataset\n",
        "!wget https://github.com/dataprofessor/data/raw/master/BostonHousing.csv"
      ],
      "execution_count": 7,
      "outputs": [
        {
          "output_type": "stream",
          "text": [
            "--2021-04-11 17:37:38--  https://github.com/dataprofessor/data/raw/master/BostonHousing.csv\n",
            "Resolving github.com (github.com)... 140.82.112.3\n",
            "Connecting to github.com (github.com)|140.82.112.3|:443... connected.\n",
            "HTTP request sent, awaiting response... 302 Found\n",
            "Location: https://raw.githubusercontent.com/dataprofessor/data/master/BostonHousing.csv [following]\n",
            "--2021-04-11 17:37:38--  https://raw.githubusercontent.com/dataprofessor/data/master/BostonHousing.csv\n",
            "Resolving raw.githubusercontent.com (raw.githubusercontent.com)... 185.199.108.133, 185.199.109.133, 185.199.110.133, ...\n",
            "Connecting to raw.githubusercontent.com (raw.githubusercontent.com)|185.199.108.133|:443... connected.\n",
            "HTTP request sent, awaiting response... 200 OK\n",
            "Length: 36242 (35K) [text/plain]\n",
            "Saving to: ‘BostonHousing.csv’\n",
            "\n",
            "BostonHousing.csv   100%[===================>]  35.39K  --.-KB/s    in 0.003s  \n",
            "\n",
            "2021-04-11 17:37:38 (11.1 MB/s) - ‘BostonHousing.csv’ saved [36242/36242]\n",
            "\n"
          ],
          "name": "stdout"
        }
      ]
    },
    {
      "cell_type": "code",
      "metadata": {
        "id": "kEGGTz3gYkvc"
      },
      "source": [
        "boston_ds = pd.read_csv('BostonHousing.csv')"
      ],
      "execution_count": 8,
      "outputs": []
    },
    {
      "cell_type": "code",
      "metadata": {
        "id": "Fmt28sZ-Yk72"
      },
      "source": [
        "Y = boston_ds.medv"
      ],
      "execution_count": 9,
      "outputs": []
    },
    {
      "cell_type": "code",
      "metadata": {
        "id": "30JnBKKdZ4M3"
      },
      "source": [
        "X = boston_ds.tax"
      ],
      "execution_count": 10,
      "outputs": []
    },
    {
      "cell_type": "code",
      "metadata": {
        "id": "YSX1ElJAY8xO"
      },
      "source": [
        "#mean of X and Y\n",
        "mean_x = np.mean(X)\n",
        "mean_y = np.mean(Y)"
      ],
      "execution_count": 11,
      "outputs": []
    },
    {
      "cell_type": "code",
      "metadata": {
        "id": "rAK1z347Zgjl",
        "outputId": "4c69c5d6-b46e-464e-d2aa-656c81f2a75e",
        "colab": {
          "base_uri": "https://localhost:8080/"
        }
      },
      "source": [
        "\"\"\"calculating slope m/B1 as \n",
        "\n",
        "m = (Sum((X[i]-mean_x))*Sum((Y[i]-mean_y)))/(X[i]-mean_x)**2\n",
        "\"\"\"\n",
        "num = 0\n",
        "denom = 0\n",
        "for i in range(len(X)):\n",
        "    num+= (X[i] - mean_x)*(Y[i]-mean_y)\n",
        "    denom+= (X[i] - mean_x)**2\n",
        "\n",
        "b1 = num/denom\n",
        "b0 =  mean_y - (b1*mean_x)\n",
        "\n",
        "#print coefficients\n",
        "print('Intercept : {} \\nSlope : {}'.format(b0,b1))"
      ],
      "execution_count": 12,
      "outputs": [
        {
          "output_type": "stream",
          "text": [
            "Intercept : 32.9706544936663 \n",
            "Slope : -0.025568099481987225\n"
          ],
          "name": "stdout"
        }
      ]
    },
    {
      "cell_type": "code",
      "metadata": {
        "id": "a815o44fktv0"
      },
      "source": [
        "#calcualting predicted \n",
        "min_x = np.min(X) - 100\n",
        "max_x = np.max(X)+100"
      ],
      "execution_count": 13,
      "outputs": []
    },
    {
      "cell_type": "code",
      "metadata": {
        "id": "-Ikuk7HUmNmX"
      },
      "source": [
        "#calculating line values in min and max\n",
        "x = np.linspace(min_x,max_x,1000)\n",
        "y = b0+b1*x "
      ],
      "execution_count": 14,
      "outputs": []
    },
    {
      "cell_type": "code",
      "metadata": {
        "id": "c6ee8KdrmsRJ",
        "outputId": "a1bc43ae-1d4c-4186-f041-166009663acc",
        "colab": {
          "base_uri": "https://localhost:8080/",
          "height": 279
        }
      },
      "source": [
        "#ploting line \n",
        "plt.plot(x,y,color='#58b970', label='Regression Line')\n",
        "plt.scatter(X,Y,c='#ef5423',label='Scatter Plot')\n",
        "plt.xlabel('Tax')\n",
        "plt.ylabel('medv')\n",
        "plt.legend()\n",
        "plt.show()"
      ],
      "execution_count": 16,
      "outputs": [
        {
          "output_type": "display_data",
          "data": {
            "image/png": "[encoded data removed]",
            "text/plain": [
              "<Figure size 432x288 with 1 Axes>"
            ]
          },
          "metadata": {
            "tags": [],
            "needs_background": "light"
          }
        }
      ]
    },
    {
      "cell_type": "markdown",
      "metadata": {
        "id": "VLRfLnJ3A-XC"
      },
      "source": [
        "**Goodness of Fit** defines how well the regression line fits the data or the measure of error for our model i.e. to measure the difference between the actual and predicted value of target variables\n",
        "\n",
        "**Coefficient of Determination or R-squared method**\n",
        "\n",
        "**Calcualted as** (1-(tss/sst)) where\n",
        "\n",
        "**TSS** stands for **'Total Sum of Squares'**, is **Sum((y[i]-mean_y)^2)**\n",
        "\n",
        "**RSS** stands for **'Residual sum of squares'**,  **Sum((y_pred[i]-y[i])^2)**\n",
        "\n",
        "**Mean Squared Error** \n",
        "\n",
        "**Calculated as**  ((Y[i]-y_pred[i])^2)/len(X)"
      ]
    },
    {
      "cell_type": "code",
      "metadata": {
        "id": "8eHRvmGDA6OW",
        "outputId": "7aa7439e-10c6-4d80-f397-78ead46818d6",
        "colab": {
          "base_uri": "https://localhost:8080/"
        }
      },
      "source": [
        "#calculating R-squared \n",
        "tss = 0\n",
        "rss = 0\n",
        "for i in range(len(X)):\n",
        "  y_pred = b0+b1*X[i]\n",
        "  tss+= (Y[i]-mean_y)**2\n",
        "  rss+= (y_pred-Y[i])**2\n",
        "\n",
        "r2 = 1 -(rss/tss)\n",
        "mse = rss/len(X)\n",
        "print('R2 value is {:.2f} and MSE is {:.2f}'.format(r2,mse))\n",
        "\n"
      ],
      "execution_count": 25,
      "outputs": [
        {
          "output_type": "stream",
          "text": [
            "R2 value is 0.22 and MSE is 65.89\n"
          ],
          "name": "stdout"
        }
      ]
    },
    {
      "cell_type": "markdown",
      "metadata": {
        "id": "n1uXKle_Unx4"
      },
      "source": [
        "**Method 2 : Using skLearn**"
      ]
    },
    {
      "cell_type": "code",
      "metadata": {
        "id": "qB0feveIqA4A"
      },
      "source": [
        "diabetes = datasets.load_diabetes()"
      ],
      "execution_count": null,
      "outputs": []
    },
    {
      "cell_type": "markdown",
      "metadata": {
        "id": "dztTeFwPsBTs"
      },
      "source": [
        "**Create X and Y Data matrices**"
      ]
    },
    {
      "cell_type": "code",
      "metadata": {
        "id": "UTOwaF_RrPvD"
      },
      "source": [
        "X = diabetes.data\n",
        "Y = diabetes.target"
      ],
      "execution_count": null,
      "outputs": []
    },
    {
      "cell_type": "code",
      "metadata": {
        "colab": {
          "base_uri": "https://localhost:8080/"
        },
        "id": "bJnT9zdQrRPo",
        "outputId": "a3aea2d4-65bf-42da-9fd2-88d21d18c6bd"
      },
      "source": [
        "X.shape,Y.shape"
      ],
      "execution_count": null,
      "outputs": [
        {
          "output_type": "execute_result",
          "data": {
            "text/plain": [
              "((442, 10), (442,))"
            ]
          },
          "metadata": {
            "tags": []
          },
          "execution_count": 14
        }
      ]
    },
    {
      "cell_type": "markdown",
      "metadata": {
        "id": "79Oac0aFsltt"
      },
      "source": [
        "**Data Split**"
      ]
    },
    {
      "cell_type": "markdown",
      "metadata": {
        "id": "dnUvu2lqszoE"
      },
      "source": [
        "**Perform 80/20 Train test data split**"
      ]
    },
    {
      "cell_type": "code",
      "metadata": {
        "id": "bG5y79NFsyb2"
      },
      "source": [
        "X_train,X_test,Y_train,Y_test = train_test_split(X,Y,test_size=0.2)"
      ],
      "execution_count": null,
      "outputs": []
    },
    {
      "cell_type": "markdown",
      "metadata": {
        "id": "_YLGUOhotWPA"
      },
      "source": [
        "**Linear Regression Model**"
      ]
    },
    {
      "cell_type": "markdown",
      "metadata": {
        "id": "I9GeBGbpuCmH"
      },
      "source": [
        "Define Regression Model"
      ]
    },
    {
      "cell_type": "code",
      "metadata": {
        "id": "ZJu30uY5tpSj"
      },
      "source": [
        "model = linear_model.LinearRegression()"
      ],
      "execution_count": null,
      "outputs": []
    },
    {
      "cell_type": "markdown",
      "metadata": {
        "id": "CVkfWpVYuJiS"
      },
      "source": [
        "Build Regression Model"
      ]
    },
    {
      "cell_type": "code",
      "metadata": {
        "colab": {
          "base_uri": "https://localhost:8080/"
        },
        "id": "AG_KCWaAtt_t",
        "outputId": "222d90ea-4b24-4925-e3ed-5edf6dd24965"
      },
      "source": [
        "model.fit(X_train,Y_train)"
      ],
      "execution_count": null,
      "outputs": [
        {
          "output_type": "execute_result",
          "data": {
            "text/plain": [
              "LinearRegression(copy_X=True, fit_intercept=True, n_jobs=None, normalize=False)"
            ]
          },
          "metadata": {
            "tags": []
          },
          "execution_count": 41
        }
      ]
    },
    {
      "cell_type": "markdown",
      "metadata": {
        "id": "3VsBwNfwuYaA"
      },
      "source": [
        "Apply trained model to make prediction (on test set)"
      ]
    },
    {
      "cell_type": "code",
      "metadata": {
        "id": "qGogWu73uPrU"
      },
      "source": [
        "y_pred = model.predict(X_test)"
      ],
      "execution_count": null,
      "outputs": []
    },
    {
      "cell_type": "code",
      "metadata": {
        "colab": {
          "base_uri": "https://localhost:8080/"
        },
        "id": "zueCs132uklO",
        "outputId": "71850242-6b6d-4e6d-fdf6-db5cf63dc950"
      },
      "source": [
        "print('coefficients {}'.format(model.coef_))\n",
        "print('Intercept', model.intercept_)\n",
        "print('Mean Squared Error (MSE): {:.2f}'.format(mean_squared_error(Y_test,y_pred)))\n",
        "print('Coefficient of Determination (R^2) :{:.2f}'.format(r2_score(Y_test,y_pred)))"
      ],
      "execution_count": null,
      "outputs": [
        {
          "output_type": "stream",
          "text": [
            "coefficients [   4.65757921 -236.02911451  533.56216603  319.50003797 -795.76023257\n",
            "  464.25447779   97.21146681  135.96831058  779.93635241   77.55299833]\n",
            "Intercept 152.81437259498887\n",
            "Mean Squared Error (MSE): 2837.20\n",
            "Coefficient of Determination (R^2) :0.48\n"
          ],
          "name": "stdout"
        }
      ]
    }
  ]
}